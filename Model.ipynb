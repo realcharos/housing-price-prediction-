{
 "cells": [
  {
   "cell_type": "code",
   "execution_count": 35,
   "id": "c5638b1f-207e-4324-8f2b-0c74c0c52a73",
   "metadata": {},
   "outputs": [
    {
     "ename": "ModuleNotFoundError",
     "evalue": "No module named 'category'",
     "output_type": "error",
     "traceback": [
      "\u001b[1;31m---------------------------------------------------------------------------\u001b[0m",
      "\u001b[1;31mModuleNotFoundError\u001b[0m                       Traceback (most recent call last)",
      "Cell \u001b[1;32mIn[35], line 11\u001b[0m\n\u001b[0;32m      9\u001b[0m \u001b[38;5;28;01mfrom\u001b[39;00m\u001b[38;5;250m \u001b[39m\u001b[38;5;21;01msklearn\u001b[39;00m\u001b[38;5;21;01m.\u001b[39;00m\u001b[38;5;21;01mpreprocessing\u001b[39;00m\u001b[38;5;250m \u001b[39m\u001b[38;5;28;01mimport\u001b[39;00m OneHotEncoder, StandardScaler\n\u001b[0;32m     10\u001b[0m \u001b[38;5;28;01mfrom\u001b[39;00m\u001b[38;5;250m \u001b[39m\u001b[38;5;21;01msklearn\u001b[39;00m\u001b[38;5;21;01m.\u001b[39;00m\u001b[38;5;21;01mmetrics\u001b[39;00m\u001b[38;5;250m \u001b[39m\u001b[38;5;28;01mimport\u001b[39;00m mean_squared_error, r2_score\n\u001b[1;32m---> 11\u001b[0m \u001b[38;5;28;01mimport\u001b[39;00m\u001b[38;5;250m \u001b[39m\u001b[38;5;21;01mcategory\u001b[39;00m\n",
      "\u001b[1;31mModuleNotFoundError\u001b[0m: No module named 'category'"
     ]
    }
   ],
   "source": [
    "import pandas as pd\n",
    "import sklearn\n",
    "import numpy as np\n",
    "import pandas as pd\n",
    "import matplotlib.pyplot as plt\n",
    "import seaborn as sns\n",
    "from sklearn.model_selection import train_test_split\n",
    "from sklearn.linear_model import LinearRegression\n",
    "from sklearn.preprocessing import OneHotEncoder, StandardScaler\n",
    "from sklearn.metrics import mean_squared_error, r2_score\n",
    "import category"
   ]
  },
  {
   "cell_type": "code",
   "execution_count": 36,
   "id": "32cfe07b-843d-4deb-9e98-cac5e38a60ae",
   "metadata": {},
   "outputs": [],
   "source": [
    "df = pd.read_csv(r\"C:\\Users\\chmux\\Downloads\\df.csv\")\n",
    "df['price'] = df['price']*1000"
   ]
  },
  {
   "cell_type": "code",
   "execution_count": 20,
   "id": "faad846c-790c-4d47-ac61-26c2d992e7de",
   "metadata": {},
   "outputs": [
    {
     "name": "stdout",
     "output_type": "stream",
     "text": [
      "Requirement already satisfied: category_encoders in c:\\users\\chmux\\ml\\lib\\site-packages (2.8.1)\n",
      "Requirement already satisfied: numpy>=1.14.0 in c:\\users\\chmux\\ml\\lib\\site-packages (from category_encoders) (2.1.3)\n",
      "Requirement already satisfied: pandas>=1.0.5 in c:\\users\\chmux\\ml\\lib\\site-packages (from category_encoders) (2.2.3)\n",
      "Requirement already satisfied: patsy>=0.5.1 in c:\\users\\chmux\\ml\\lib\\site-packages (from category_encoders) (1.0.1)\n",
      "Requirement already satisfied: scikit-learn>=1.6.0 in c:\\users\\chmux\\ml\\lib\\site-packages (from category_encoders) (1.6.1)\n",
      "Requirement already satisfied: scipy>=1.0.0 in c:\\users\\chmux\\ml\\lib\\site-packages (from category_encoders) (1.15.3)\n",
      "Requirement already satisfied: statsmodels>=0.9.0 in c:\\users\\chmux\\ml\\lib\\site-packages (from category_encoders) (0.14.4)\n",
      "Requirement already satisfied: python-dateutil>=2.8.2 in c:\\users\\chmux\\ml\\lib\\site-packages (from pandas>=1.0.5->category_encoders) (2.9.0.post0)\n",
      "Requirement already satisfied: pytz>=2020.1 in c:\\users\\chmux\\ml\\lib\\site-packages (from pandas>=1.0.5->category_encoders) (2024.1)\n",
      "Requirement already satisfied: tzdata>=2022.7 in c:\\users\\chmux\\ml\\lib\\site-packages (from pandas>=1.0.5->category_encoders) (2025.2)\n",
      "Requirement already satisfied: six>=1.5 in c:\\users\\chmux\\ml\\lib\\site-packages (from python-dateutil>=2.8.2->pandas>=1.0.5->category_encoders) (1.17.0)\n",
      "Requirement already satisfied: joblib>=1.2.0 in c:\\users\\chmux\\ml\\lib\\site-packages (from scikit-learn>=1.6.0->category_encoders) (1.4.2)\n",
      "Requirement already satisfied: threadpoolctl>=3.1.0 in c:\\users\\chmux\\ml\\lib\\site-packages (from scikit-learn>=1.6.0->category_encoders) (3.5.0)\n",
      "Requirement already satisfied: packaging>=21.3 in c:\\users\\chmux\\ml\\lib\\site-packages (from statsmodels>=0.9.0->category_encoders) (24.2)\n"
     ]
    }
   ],
   "source": [
    "!pip install category_encoders\n",
    "import category_encoders as ce"
   ]
  },
  {
   "cell_type": "code",
   "execution_count": 37,
   "id": "07682a2d-9332-40af-b3df-526eef353bd7",
   "metadata": {},
   "outputs": [
    {
     "name": "stdout",
     "output_type": "stream",
     "text": [
      "Mean Squared Error: 431762570.9382048\n"
     ]
    }
   ],
   "source": [
    "import pandas as pd\n",
    "from sklearn.model_selection import train_test_split\n",
    "from sklearn.preprocessing import OneHotEncoder\n",
    "from sklearn.linear_model import LinearRegression\n",
    "from sklearn.metrics import mean_squared_error\n",
    "\n",
    "# Assume your full dataset is in 'df'\n",
    "# Features and target\n",
    "X = df[['location', 'district', 'rooms', 'size', 'level', 'max_levels']]\n",
    "y = df['price']\n",
    "\n",
    "# Split into train/test (if not done already)\n",
    "X_train, X_test, y_train, y_test = train_test_split(X, y, test_size=0.2, random_state=42)\n",
    "\n",
    "# One-hot encode categorical columns: 'location' and 'district'\n",
    "ohe = OneHotEncoder(handle_unknown='ignore', sparse_output=False)\n",
    "cat_cols = ['location', 'district']\n",
    "\n",
    "# Fit on train\n",
    "ohe.fit(X_train[cat_cols])\n",
    "\n",
    "# Transform train and test categorical columns\n",
    "X_train_cat = pd.DataFrame(ohe.transform(X_train[cat_cols]), \n",
    "                           columns=ohe.get_feature_names_out(cat_cols), \n",
    "                           index=X_train.index)\n",
    "X_test_cat = pd.DataFrame(ohe.transform(X_test[cat_cols]), \n",
    "                          columns=ohe.get_feature_names_out(cat_cols), \n",
    "                          index=X_test.index)\n",
    "\n",
    "# Select numeric columns\n",
    "num_cols = ['rooms', 'size', 'level', 'max_levels']\n",
    "X_train_num = X_train[num_cols].copy()\n",
    "X_test_num = X_test[num_cols].copy()\n",
    "\n",
    "# Combine numeric and encoded categorical columns\n",
    "X_train_final = pd.concat([X_train_num, X_train_cat], axis=1)\n",
    "X_test_final = pd.concat([X_test_num, X_test_cat], axis=1)\n",
    "\n",
    "# Initialize and train model\n",
    "model = LinearRegression()\n",
    "model.fit(X_train_final, y_train)\n",
    "\n",
    "# Predict and evaluate\n",
    "y_pred = model.predict(X_test_final)\n",
    "mse = mean_squared_error(y_test, y_pred)\n",
    "print(f'Mean Squared Error: {mse}')\n"
   ]
  },
  {
   "cell_type": "code",
   "execution_count": 37,
   "id": "286f5229-0920-49ab-af3b-795be39eb3d2",
   "metadata": {},
   "outputs": [
    {
     "name": "stdout",
     "output_type": "stream",
     "text": [
      "Mean Squared Error: 431762570.9382048\n"
     ]
    }
   ],
   "source": [
    "import pandas as pd\n",
    "from sklearn.model_selection import train_test_split\n",
    "from sklearn.preprocessing import OneHotEncoder\n",
    "from sklearn.linear_model import LinearRegression\n",
    "from sklearn.metrics import mean_squared_error\n",
    "\n",
    "# Assume your full dataset is in 'df'\n",
    "# Features and target\n",
    "X = df[['location', 'district', 'rooms', 'size', 'level', 'max_levels']]\n",
    "y = df['price']\n",
    "\n",
    "# Split into train/test (if not done already)\n",
    "X_train, X_test, y_train, y_test = train_test_split(X, y, test_size=0.2, random_state=42)\n",
    "\n",
    "# One-hot encode categorical columns: 'location' and 'district'\n",
    "ohe = OneHotEncoder(handle_unknown='ignore', sparse_output=False)\n",
    "cat_cols = ['location', 'district']\n",
    "\n",
    "# Fit on train\n",
    "ohe.fit(X_train[cat_cols])\n",
    "\n",
    "# Transform train and test categorical columns\n",
    "X_train_cat = pd.DataFrame(ohe.transform(X_train[cat_cols]), \n",
    "                           columns=ohe.get_feature_names_out(cat_cols), \n",
    "                           index=X_train.index)\n",
    "X_test_cat = pd.DataFrame(ohe.transform(X_test[cat_cols]), \n",
    "                          columns=ohe.get_feature_names_out(cat_cols), \n",
    "                          index=X_test.index)\n",
    "\n",
    "# Select numeric columns\n",
    "num_cols = ['rooms', 'size', 'level', 'max_levels']\n",
    "X_train_num = X_train[num_cols].copy()\n",
    "X_test_num = X_test[num_cols].copy()\n",
    "\n",
    "# Combine numeric and encoded categorical columns\n",
    "X_train_final = pd.concat([X_train_num, X_train_cat], axis=1)\n",
    "X_test_final = pd.concat([X_test_num, X_test_cat], axis=1)\n",
    "\n",
    "# Initialize and train model\n",
    "model = LinearRegression()\n",
    "model.fit(X_train_final, y_train)\n",
    "\n",
    "# Predict and evaluate\n",
    "y_pred = model.predict(X_test_final)\n",
    "mse = mean_squared_error(y_test, y_pred)\n",
    "print(f'Mean Squared Error: {mse}')\n"
   ]
  },
  {
   "cell_type": "code",
   "execution_count": 38,
   "id": "9cbe1f54-5a89-4c4b-8db3-de759268e974",
   "metadata": {},
   "outputs": [
    {
     "name": "stdout",
     "output_type": "stream",
     "text": [
      "MSE: 431762570.9382048\n",
      "RMSE: 20778.8972502923\n",
      "MAE: 12048.261684408752\n",
      "R-squared: 0.7672695238400117\n"
     ]
    }
   ],
   "source": [
    "from sklearn.metrics import mean_squared_error, mean_absolute_error, r2_score\n",
    "import numpy as np\n",
    "\n",
    "mse = mean_squared_error(y_test, y_pred)\n",
    "rmse = np.sqrt(mse)\n",
    "mae = mean_absolute_error(y_test, y_pred)\n",
    "r2 = r2_score(y_test, y_pred)\n",
    "\n",
    "print(f'MSE: {mse}')\n",
    "print(f'RMSE: {rmse}')\n",
    "print(f'MAE: {mae}')\n",
    "print(f'R-squared: {r2}')\n"
   ]
  }
 ],
 "metadata": {
  "kernelspec": {
   "display_name": "Python [conda env:base] *",
   "language": "python",
   "name": "conda-base-py"
  },
  "language_info": {
   "codemirror_mode": {
    "name": "ipython",
    "version": 3
   },
   "file_extension": ".py",
   "mimetype": "text/x-python",
   "name": "python",
   "nbconvert_exporter": "python",
   "pygments_lexer": "ipython3",
   "version": "3.13.5"
  }
 },
 "nbformat": 4,
 "nbformat_minor": 5
}
